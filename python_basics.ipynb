{
  "nbformat": 4,
  "nbformat_minor": 0,
  "metadata": {
    "colab": {
      "provenance": []
    },
    "kernelspec": {
      "name": "python3",
      "display_name": "Python 3"
    },
    "language_info": {
      "name": "python"
    }
  },
  "cells": [
    {
      "cell_type": "markdown",
      "source": [
        "1 - What is Python, and why is it popular\n",
        "    \n",
        "    Python is one the easiest yet most useful programming language. Python so popular because Beginner freindly syntax, versatility across domains and extensive libraries & framework.\n",
        "\n",
        "2 - What is an interpreter in Python\n",
        "\n",
        "    The Python interpreter loads the machine language with the library modules and inputs it into the PVM.\n",
        "    PVM which is the Python virtual machine.\n",
        "\n",
        "3 - What are pre-defined keywords in Python\n",
        "\n",
        "    Python Keywords are some predefined and reserved words in Python that have special meanings\n",
        "    Example - And or Not, if elif else, True False\n",
        "\n",
        "4 - Can keywords be used as variable names\n",
        "\n",
        "    No, keywords cannot be used as variable names\n",
        "\n",
        "5 - What is mutability in Python\n",
        "\n",
        "    Mutability refers to the ability of an object to be modified after it is created.\n",
        "\n",
        "6 -  Why are lists mutable, but tuples are immutable\n",
        "\n",
        "    Tuples are immutable, meaning that once a tuple has been created, you can't replace any of its elements with a new value.\n",
        "    Lists are mutable, meaning that you can always change a list's elements.\n",
        "\n",
        "7 - What is the difference between “==” and “is” operators in Python\n",
        "\n",
        "    The '==' operator checks if two objects hold the same data, while 'is' checks if they are the exact same object.\n",
        "\n",
        "8 - What are logical operators in Python\n",
        "\n",
        "    logical operators are TRUE or FALSE\n",
        "\n",
        "9 - What is type casting in Python\n",
        "\n",
        "    Type casting is the process of converting one data type into another\n",
        "\n",
        "10 - What is the difference between implicit and explicit type casting\n",
        "\n",
        "     Implicit type casting happens automatically, while explicit type casting requires manual intervention\n",
        "\n",
        "11 - What is the purpose of conditional statements in Python\n",
        "\n",
        "     Conditional statements in Python are used to execute certain blocks of code based on specific conditions\n",
        "\n",
        "12 - How does the elif statement work\n",
        "\n",
        "     Executes if condition 1 is False and condition 2 is True\n",
        "\n",
        "13 - What is the difference between for and while loops\n",
        "\n",
        "    For Loops:\n",
        "    Fixed Number of Iterations\n",
        "    Iterating over Collections\n",
        "    Readability\n",
        "\n",
        "    While Loops:\n",
        "    Dynamic Condition\n",
        "    Unknown Iteration\n",
        "    Flexibility\n",
        "\n",
        "14 - Describe a scenario where a while loop is more suitable than a for loop\n",
        "\n",
        "     while loop is best used when you don't know the number of iterations in advance"
      ],
      "metadata": {
        "id": "sVsmEyhdsKPW"
      }
    },
    {
      "cell_type": "markdown",
      "source": [
        "Write a Python program to print \"Hello, World!"
      ],
      "metadata": {
        "id": "xeSqZIt8p-KW"
      }
    },
    {
      "cell_type": "code",
      "source": [
        "print(\"hello world\")"
      ],
      "metadata": {
        "colab": {
          "base_uri": "https://localhost:8080/"
        },
        "id": "hkDf2O1JrP3j",
        "outputId": "b4c025f2-59ba-4bd5-b92f-f93790dc6663"
      },
      "execution_count": null,
      "outputs": [
        {
          "output_type": "stream",
          "name": "stdout",
          "text": [
            "hello world\n"
          ]
        }
      ]
    },
    {
      "cell_type": "markdown",
      "source": [
        " Write a Python program that displays your name and age\n",
        "\n"
      ],
      "metadata": {
        "id": "txgsbowksgDF"
      }
    },
    {
      "cell_type": "code",
      "source": [
        "age = input(\"enter your age\")\n",
        "name = input(\"enter your name\")\n",
        "print(age)\n",
        "print(name)\n",
        "\n"
      ],
      "metadata": {
        "colab": {
          "base_uri": "https://localhost:8080/"
        },
        "id": "gdmkklkK7Ktv",
        "outputId": "3ac8707b-6c8c-44c8-dd9a-65b0230d7c35"
      },
      "execution_count": null,
      "outputs": [
        {
          "output_type": "stream",
          "name": "stdout",
          "text": [
            "enter your age28\n",
            "enter your nameNishant Raghav\n",
            "28\n",
            "Nishant Raghav\n"
          ]
        }
      ]
    },
    {
      "cell_type": "markdown",
      "source": [
        "Write code to print all the pre-defined keywords in Python using the keyword library"
      ],
      "metadata": {
        "id": "z6Q-rD1X7s5G"
      }
    },
    {
      "cell_type": "code",
      "source": [
        "import keyword\n",
        "print(keyword.kwlist)\n"
      ],
      "metadata": {
        "colab": {
          "base_uri": "https://localhost:8080/"
        },
        "id": "lGc6tdnp8bx-",
        "outputId": "baf90b0a-f6c9-4ecf-b2fe-35d4bd4ef5ea"
      },
      "execution_count": null,
      "outputs": [
        {
          "output_type": "stream",
          "name": "stdout",
          "text": [
            "['False', 'None', 'True', 'and', 'as', 'assert', 'async', 'await', 'break', 'class', 'continue', 'def', 'del', 'elif', 'else', 'except', 'finally', 'for', 'from', 'global', 'if', 'import', 'in', 'is', 'lambda', 'nonlocal', 'not', 'or', 'pass', 'raise', 'return', 'try', 'while', 'with', 'yield']\n"
          ]
        }
      ]
    },
    {
      "cell_type": "markdown",
      "source": [
        "Write a program that checks if a given word is a Python keyword."
      ],
      "metadata": {
        "id": "s0SPUhdi86Vt"
      }
    },
    {
      "cell_type": "code",
      "source": [
        "word = \"hello\"\n",
        "if keyword.iskeyword(word):\n",
        "  print(f\"'{word}' is a python keyword.\")\n",
        "else:\n",
        "    print(f\"'{word}' is not a python keyword.\")"
      ],
      "metadata": {
        "colab": {
          "base_uri": "https://localhost:8080/"
        },
        "id": "0vEXACswC7JK",
        "outputId": "9d048292-574f-4e51-c870-dd5619d40784"
      },
      "execution_count": null,
      "outputs": [
        {
          "output_type": "stream",
          "name": "stdout",
          "text": [
            "'hello' is not a python keyword.\n"
          ]
        }
      ]
    },
    {
      "cell_type": "markdown",
      "source": [
        "Create a list and tuple in Python, and demonstrate how attempting to change an element works differently\n",
        "for each."
      ],
      "metadata": {
        "id": "0mnHaDgxDYYu"
      }
    },
    {
      "cell_type": "code",
      "source": [
        "my_list = [1, 2, 3]\n",
        "print(\"Original list:\", my_list)\n",
        "\n",
        "# Modify an element in the list\n",
        "my_list[1] = 10\n",
        "print(\"Modified list:\", my_list)\n",
        "\n",
        "# Create a tuple\n",
        "my_tuple = (4, 5, 6)\n",
        "print(\"Original tuple:\", my_tuple)\n"
      ],
      "metadata": {
        "colab": {
          "base_uri": "https://localhost:8080/"
        },
        "id": "t6RpH4SpDbi_",
        "outputId": "100b0771-eca5-466d-9695-45e5c3ed1d1e"
      },
      "execution_count": null,
      "outputs": [
        {
          "output_type": "stream",
          "name": "stdout",
          "text": [
            "Original list: [1, 2, 3]\n",
            "Modified list: [1, 10, 3]\n",
            "Original tuple: (4, 5, 6)\n"
          ]
        }
      ]
    },
    {
      "cell_type": "markdown",
      "source": [
        " Write a function to demonstrate the behavior of mutable and immutable arguments.\n",
        "\n"
      ],
      "metadata": {
        "id": "mFyQ3vc-LAe9"
      }
    },
    {
      "cell_type": "code",
      "source": [
        "my_list = [1, 2, 3]\n",
        "my_list.append(4)\n",
        "print(my_list)"
      ],
      "metadata": {
        "colab": {
          "base_uri": "https://localhost:8080/"
        },
        "id": "HB4ohzbpScnI",
        "outputId": "5f84d045-bb95-4ffe-b535-e85b631a1996"
      },
      "execution_count": null,
      "outputs": [
        {
          "output_type": "stream",
          "name": "stdout",
          "text": [
            "[1, 2, 3, 4]\n"
          ]
        }
      ]
    },
    {
      "cell_type": "code",
      "source": [
        "list = [\"pwskills\"]\n",
        "list[0] = \"\"I\"\n"
      ],
      "metadata": {
        "colab": {
          "base_uri": "https://localhost:8080/",
          "height": 106
        },
        "id": "c4ReLQ-6TG8Q",
        "outputId": "3a5343a1-3cc0-4649-ace0-33eceba0e65c"
      },
      "execution_count": null,
      "outputs": [
        {
          "output_type": "error",
          "ename": "SyntaxError",
          "evalue": "unterminated string literal (detected at line 2) (<ipython-input-11-72a956a97f30>, line 2)",
          "traceback": [
            "\u001b[0;36m  File \u001b[0;32m\"<ipython-input-11-72a956a97f30>\"\u001b[0;36m, line \u001b[0;32m2\u001b[0m\n\u001b[0;31m    list[0] = \"\"I\"\u001b[0m\n\u001b[0m                 ^\u001b[0m\n\u001b[0;31mSyntaxError\u001b[0m\u001b[0;31m:\u001b[0m unterminated string literal (detected at line 2)\n"
          ]
        }
      ]
    },
    {
      "cell_type": "markdown",
      "source": [
        "The output shows that the immutable argument's value remains unchanged outside the function, while the mutable argument's changes persist after the function call. This is because immutable arguments are passed by value, and mutable arguments are passed by reference."
      ],
      "metadata": {
        "id": "MNJ8D58wVcuX"
      }
    },
    {
      "cell_type": "markdown",
      "source": [
        " Write a program that performs basic arithmetic operations on two user-input numbers.\n",
        "\n"
      ],
      "metadata": {
        "id": "1eHzI26cKBfo"
      }
    },
    {
      "cell_type": "markdown",
      "source": [
        "# Perform basic arithmetic operations"
      ],
      "metadata": {
        "id": "Ek9E0yQvJB8_"
      }
    },
    {
      "cell_type": "code",
      "source": [
        "a = 15\n",
        "b = 5\n",
        "print(a+b)\n",
        "print(a-b)\n",
        "print(a*b)\n",
        "print(a/b)"
      ],
      "metadata": {
        "colab": {
          "base_uri": "https://localhost:8080/"
        },
        "id": "he7L1VMuJG9I",
        "outputId": "e1962fec-5ff6-494e-bc13-3fc7713c91cd"
      },
      "execution_count": null,
      "outputs": [
        {
          "output_type": "stream",
          "name": "stdout",
          "text": [
            "20\n",
            "10\n",
            "75\n",
            "3.0\n"
          ]
        }
      ]
    },
    {
      "cell_type": "markdown",
      "source": [
        "Write a program to demonstrate the use of logical operators."
      ],
      "metadata": {
        "id": "ieqt1mxCKMKY"
      }
    },
    {
      "cell_type": "code",
      "source": [
        "a = 10\n",
        "b = 12\n",
        "c = 0\n",
        "if a and b and c:\n",
        "  print(\"All the numbers have boolean value as True\")\n",
        "else:\n",
        "    print(\"Atleast one number has boolean value as False\")"
      ],
      "metadata": {
        "colab": {
          "base_uri": "https://localhost:8080/"
        },
        "id": "958yAnl3NC_5",
        "outputId": "8d35d721-a732-4a04-ad6b-ae6af5b43484"
      },
      "execution_count": null,
      "outputs": [
        {
          "output_type": "stream",
          "name": "stdout",
          "text": [
            "Atleast one number has boolean value as False\n"
          ]
        }
      ]
    },
    {
      "cell_type": "code",
      "source": [
        "a = 10\n",
        "b = 12\n",
        "c = 0\n",
        "if a or b or c:\n",
        "  print(\"All the numbers have boolean value as True\")\n",
        "else:\n",
        "    print(\"Atleast one number has boolean value as False\")"
      ],
      "metadata": {
        "colab": {
          "base_uri": "https://localhost:8080/"
        },
        "id": "wCpT2v2oNES9",
        "outputId": "4fa5027c-5069-4d08-caa2-f15e5f4bbe5d"
      },
      "execution_count": null,
      "outputs": [
        {
          "output_type": "stream",
          "name": "stdout",
          "text": [
            "All the numbers have boolean value as True\n"
          ]
        }
      ]
    },
    {
      "cell_type": "code",
      "source": [
        "a = 10\n",
        "\n",
        "if not a:\n",
        "    print(\"Boolean value of a is True\")\n",
        "if not (a % 3 == 0 or a % 5 == 0):\n",
        "    print(\"10 is not divisible by either 3 or 5\")\n",
        "else:\n",
        "    print(\"10 is divisible by either 3 or 5\")"
      ],
      "metadata": {
        "colab": {
          "base_uri": "https://localhost:8080/"
        },
        "id": "zZnz_Ri8OrMW",
        "outputId": "71b3cecd-dde8-4d54-ebb9-126fa27ae181"
      },
      "execution_count": null,
      "outputs": [
        {
          "output_type": "stream",
          "name": "stdout",
          "text": [
            "10 is divisible by either 3 or 5\n"
          ]
        }
      ]
    },
    {
      "cell_type": "markdown",
      "source": [
        " Write a Python program to convert user input from string to integer, float, and boolean types"
      ],
      "metadata": {
        "id": "MWCp0WAuPHZA"
      }
    },
    {
      "cell_type": "code",
      "source": [
        "s = \"42\"\n",
        "integer_value = int(s)\n",
        "print(integer_value)\n",
        "float_value = float(s)\n",
        "print(float_value)\n",
        "boolean_value = bool(s)\n",
        "print(boolean_value)"
      ],
      "metadata": {
        "colab": {
          "base_uri": "https://localhost:8080/"
        },
        "id": "z7XPzDKDRTBx",
        "outputId": "6c3678c8-d66e-4fa8-829c-c926d4f8db08"
      },
      "execution_count": null,
      "outputs": [
        {
          "output_type": "stream",
          "name": "stdout",
          "text": [
            "42\n",
            "42.0\n",
            "True\n"
          ]
        }
      ]
    },
    {
      "cell_type": "markdown",
      "source": [
        "Write code to demonstrate type casting with list elements."
      ],
      "metadata": {
        "id": "5SJJUI0fSS5B"
      }
    },
    {
      "cell_type": "code",
      "source": [
        "my_list = ['1', '2', '3', '4', '5']\n",
        "\n",
        "int_list = [int(x) for x in my_list]\n",
        "print(\"List of integers:\", int_list)\n",
        "\n",
        "float_list = [float(x) for x in int_list]\n",
        "print(\"List of floats:\", float_list)\n",
        "\n",
        "str_list = [str(x) for x in float_list]\n",
        "print(\"List of strings:\", str_list)\n",
        "\n",
        "mixed_list = ['1', 2, 3.0, 'four']\n",
        "\n"
      ],
      "metadata": {
        "colab": {
          "base_uri": "https://localhost:8080/"
        },
        "id": "VlSYb-WLSVyQ",
        "outputId": "a68bbc32-10e4-458d-f0ef-656887ed62bb"
      },
      "execution_count": null,
      "outputs": [
        {
          "output_type": "stream",
          "name": "stdout",
          "text": [
            "List of integers: [1, 2, 3, 4, 5]\n",
            "List of floats: [1.0, 2.0, 3.0, 4.0, 5.0]\n",
            "List of strings: ['1.0', '2.0', '3.0', '4.0', '5.0']\n"
          ]
        }
      ]
    },
    {
      "cell_type": "markdown",
      "source": [
        "Write a program that checks if a number is positive, negative, or zero."
      ],
      "metadata": {
        "id": "h7xx9ADGUf1W"
      }
    },
    {
      "cell_type": "code",
      "source": [
        "num = float(input(\"Enter a number: \"))\n",
        "if num >= 0:\n",
        "   if num == 0:\n",
        "       print(\"Zero\")\n",
        "   else:\n",
        "       print(\"Positive number\")\n",
        "else:\n",
        "   print(\"Negative number\")"
      ],
      "metadata": {
        "colab": {
          "base_uri": "https://localhost:8080/"
        },
        "id": "E9cB63diVj9J",
        "outputId": "db01e279-00e6-4bb6-d38c-b34575c01faf"
      },
      "execution_count": null,
      "outputs": [
        {
          "output_type": "stream",
          "name": "stdout",
          "text": [
            "Enter a number: 5\n",
            "Positive number\n"
          ]
        }
      ]
    },
    {
      "cell_type": "code",
      "source": [
        "num = float(input(\"Enter a number: \"))\n",
        "if num >= 0:\n",
        "   if num == 0:\n",
        "       print(\"Zero\")\n",
        "   else:\n",
        "       print(\"Positive number\")\n",
        "else:\n",
        "   print(\"Negative number\")"
      ],
      "metadata": {
        "colab": {
          "base_uri": "https://localhost:8080/"
        },
        "id": "W9zuowfDV0PS",
        "outputId": "158a7e4c-35cb-4753-fe18-e4aa1fcd7dac"
      },
      "execution_count": null,
      "outputs": [
        {
          "output_type": "stream",
          "name": "stdout",
          "text": [
            "Enter a number: -2\n",
            "Negative number\n"
          ]
        }
      ]
    },
    {
      "cell_type": "code",
      "source": [
        "num = float(input(\"Enter a number: \"))\n",
        "if num >= 0:\n",
        "   if num == 0:\n",
        "       print(\"Zero\")\n",
        "   else:\n",
        "       print(\"Positive number\")\n",
        "else:\n",
        "   print(\"Negative number\")"
      ],
      "metadata": {
        "colab": {
          "base_uri": "https://localhost:8080/"
        },
        "id": "JmoVPC3hV6ry",
        "outputId": "24924a66-8d2a-404c-dbeb-9e9e3ff86118"
      },
      "execution_count": null,
      "outputs": [
        {
          "output_type": "stream",
          "name": "stdout",
          "text": [
            "Enter a number: 0\n",
            "Zero\n"
          ]
        }
      ]
    },
    {
      "cell_type": "markdown",
      "source": [
        "Write a for loop to print numbers from 1 to 10."
      ],
      "metadata": {
        "id": "9zIKIVlaWPLS"
      }
    },
    {
      "cell_type": "code",
      "source": [
        "for i in range(1, 11):\n",
        "  print(i)"
      ],
      "metadata": {
        "colab": {
          "base_uri": "https://localhost:8080/"
        },
        "id": "YEZw2jPgWwx6",
        "outputId": "66688bff-0d57-42fa-d42f-fc451c75d36e"
      },
      "execution_count": null,
      "outputs": [
        {
          "output_type": "stream",
          "name": "stdout",
          "text": [
            "1\n",
            "2\n",
            "3\n",
            "4\n",
            "5\n",
            "6\n",
            "7\n",
            "8\n",
            "9\n",
            "10\n"
          ]
        }
      ]
    },
    {
      "cell_type": "markdown",
      "source": [
        " Write a Python program to find the sum of all even numbers between 1 and 50."
      ],
      "metadata": {
        "id": "4gtuBlPmXMn7"
      }
    },
    {
      "cell_type": "code",
      "source": [
        "sum_even = 0\n",
        "for num in range(2, 51, 2):\n",
        "    sum_even += num\n",
        "print(sum_even)"
      ],
      "metadata": {
        "colab": {
          "base_uri": "https://localhost:8080/"
        },
        "id": "rhSOhnERX7wz",
        "outputId": "3a0ebb6b-1033-432a-a91a-afe71f19c6a5"
      },
      "execution_count": null,
      "outputs": [
        {
          "output_type": "stream",
          "name": "stdout",
          "text": [
            "650\n"
          ]
        }
      ]
    },
    {
      "cell_type": "markdown",
      "source": [
        "Write a program to reverse a string using a while loop."
      ],
      "metadata": {
        "id": "GOGNIzf9YBKE"
      }
    },
    {
      "cell_type": "code",
      "source": [
        "txt = \"Nishant Raghav\"\n",
        "\n",
        "rev = txt[::-1]\n",
        "\n",
        "print(\"Original = \", txt)\n",
        "print(\"Reversed =\", rev)"
      ],
      "metadata": {
        "colab": {
          "base_uri": "https://localhost:8080/"
        },
        "id": "TjQbUCt9afy1",
        "outputId": "8c2bcf7a-f227-4509-90da-1b6af29308c0"
      },
      "execution_count": null,
      "outputs": [
        {
          "output_type": "stream",
          "name": "stdout",
          "text": [
            "Original =  Nishant Raghav\n",
            "Reversed = vahgaR tnahsiN\n"
          ]
        }
      ]
    },
    {
      "cell_type": "markdown",
      "source": [
        "Write a Python program to calculate the factorial of a number provided by the user using a while loop."
      ],
      "metadata": {
        "id": "9uIyPkpHcY1U"
      }
    },
    {
      "cell_type": "code",
      "source": [
        "n = 6\n",
        "fact = 1\n",
        "for i in range(1, n+1):\n",
        "  fact *= i\n",
        "print(fact)"
      ],
      "metadata": {
        "colab": {
          "base_uri": "https://localhost:8080/"
        },
        "id": "aK0tQSkJcdW8",
        "outputId": "59ea4242-73ef-47c8-a8ca-eb767231de9f"
      },
      "execution_count": null,
      "outputs": [
        {
          "output_type": "stream",
          "name": "stdout",
          "text": [
            "720\n"
          ]
        }
      ]
    }
  ]
}